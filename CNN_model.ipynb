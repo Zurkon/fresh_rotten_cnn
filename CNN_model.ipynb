{
 "cells": [
  {
   "cell_type": "markdown",
   "metadata": {
    "id": "3DR-eO17geWu"
   },
   "source": [
    "# Convolutional Neural Network"
   ]
  },
  {
   "cell_type": "markdown",
   "metadata": {
    "id": "EMefrVPCg-60"
   },
   "source": [
    "### Importing the libraries"
   ]
  },
  {
   "cell_type": "code",
   "execution_count": 1,
   "metadata": {
    "id": "BwFD9qksZktZ"
   },
   "outputs": [],
   "source": [
    "import tensorflow as tf\n",
    "from tensorflow.keras.preprocessing.image import ImageDataGenerator"
   ]
  },
  {
   "cell_type": "code",
   "execution_count": 2,
   "metadata": {
    "colab": {
     "base_uri": "https://localhost:8080/"
    },
    "id": "UyZJM1wXZzNx",
    "outputId": "b593227c-df46-48ad-d418-80b5af6baf1c"
   },
   "outputs": [
    {
     "name": "stdout",
     "output_type": "stream",
     "text": [
      "2.5.0\n"
     ]
    }
   ],
   "source": [
    "print(tf.__version__)"
   ]
  },
  {
   "cell_type": "markdown",
   "metadata": {
    "id": "oxQxCBWyoGPE"
   },
   "source": [
    "## Part 1 - Data Preprocessing"
   ]
  },
  {
   "cell_type": "markdown",
   "metadata": {
    "id": "MvE-heJNo3GG"
   },
   "source": [
    "### Preprocessing the Training and Validation sets"
   ]
  },
  {
   "cell_type": "code",
   "execution_count": 3,
   "metadata": {},
   "outputs": [],
   "source": [
    "# Config variables\n",
    "image_size = 150\n",
    "batch = 32\n",
    "epochs = 50"
   ]
  },
  {
   "cell_type": "code",
   "execution_count": 4,
   "metadata": {
    "id": "th5XzrsSaDRS"
   },
   "outputs": [],
   "source": [
    "# rescale apply a Feature Scaling Normalization diviting each pixel per 255 to return a value between 0 and 1\n",
    "train_datagen = ImageDataGenerator(\n",
    "    rescale = 1./255,\n",
    "    shear_range = 0.2,\n",
    "    brightness_range=[0.2,1.0],\n",
    "    horizontal_flip = True,\n",
    "    vertical_flip= True\n",
    ")\n",
    "\n",
    "val_datagen = ImageDataGenerator(rescale = 1./255)"
   ]
  },
  {
   "cell_type": "code",
   "execution_count": 5,
   "metadata": {
    "id": "f2jo91PheRDA"
   },
   "outputs": [
    {
     "name": "stdout",
     "output_type": "stream",
     "text": [
      "Found 7630 images belonging to 2 classes.\n"
     ]
    }
   ],
   "source": [
    "training_set = train_datagen.flow_from_directory(\n",
    "    'dataset/train',\n",
    "    target_size=(image_size, image_size),\n",
    "    batch_size=batch,\n",
    "    class_mode='binary'\n",
    ")"
   ]
  },
  {
   "cell_type": "code",
   "execution_count": 6,
   "metadata": {},
   "outputs": [
    {
     "name": "stdout",
     "output_type": "stream",
     "text": [
      "Found 3271 images belonging to 2 classes.\n"
     ]
    }
   ],
   "source": [
    "validation_set = val_datagen.flow_from_directory(\n",
    "    'dataset/val',\n",
    "    target_size=(image_size, image_size),\n",
    "    batch_size=batch,\n",
    "    class_mode='binary'\n",
    ")"
   ]
  },
  {
   "cell_type": "markdown",
   "metadata": {
    "id": "mrCMmGw9pHys"
   },
   "source": [
    "### Preprocessing the Test set"
   ]
  },
  {
   "cell_type": "code",
   "execution_count": 7,
   "metadata": {
    "id": "mQ8VVhO7fM7t"
   },
   "outputs": [],
   "source": [
    "test_datagen = ImageDataGenerator(rescale=1./255)"
   ]
  },
  {
   "cell_type": "code",
   "execution_count": 8,
   "metadata": {
    "id": "Rykr7T6vfcCZ"
   },
   "outputs": [
    {
     "name": "stdout",
     "output_type": "stream",
     "text": [
      "Found 2698 images belonging to 2 classes.\n"
     ]
    }
   ],
   "source": [
    "test_set = test_datagen.flow_from_directory(\n",
    "    'dataset/test',\n",
    "    target_size=(image_size, image_size),\n",
    "    batch_size=batch,\n",
    "    class_mode='binary'\n",
    ")"
   ]
  },
  {
   "cell_type": "markdown",
   "metadata": {
    "id": "af8O4l90gk7B"
   },
   "source": [
    "## Part 2 - Building the CNN"
   ]
  },
  {
   "cell_type": "code",
   "execution_count": 9,
   "metadata": {
    "id": "k0ERMS12kUhA"
   },
   "outputs": [],
   "source": [
    "cnn = tf.keras.models.Sequential()\n",
    "cnn.add(tf.keras.layers.Conv2D(filters=32, kernel_size=3,activation='relu', input_shape=[image_size, image_size,3]))\n",
    "cnn.add(tf.keras.layers.MaxPool2D(pool_size=(2,2), strides=2))\n",
    "\n",
    "cnn.add(tf.keras.layers.Conv2D(filters=64, kernel_size=3, activation='relu'))\n",
    "cnn.add(tf.keras.layers.MaxPool2D(pool_size=(2,2), strides=2))\n",
    "cnn.add(tf.keras.layers.Dropout(0.2))\n",
    "\n",
    "cnn.add(tf.keras.layers.Conv2D(filters=128, kernel_size=3, activation='relu'))\n",
    "cnn.add(tf.keras.layers.MaxPool2D(pool_size=(2,2), strides=2))\n",
    "cnn.add(tf.keras.layers.Dropout(0.2))\n",
    "\n",
    "cnn.add(tf.keras.layers.Flatten())\n",
    "\n",
    "cnn.add(tf.keras.layers.Dense(units=512, activation='relu'))\n",
    "cnn.add(tf.keras.layers.Dropout(0.2))\n",
    "cnn.add(tf.keras.layers.Dense(units=1, activation='sigmoid'))"
   ]
  },
  {
   "cell_type": "markdown",
   "metadata": {
    "id": "D6XkI90snSDl"
   },
   "source": [
    "## Part 3 - Training the CNN"
   ]
  },
  {
   "cell_type": "markdown",
   "metadata": {
    "id": "vfrFQACEnc6i"
   },
   "source": [
    "### Compiling the CNN"
   ]
  },
  {
   "cell_type": "code",
   "execution_count": 10,
   "metadata": {},
   "outputs": [],
   "source": [
    "# adam = tf.keras.optimizers.Adam(learning_rate=0.001)"
   ]
  },
  {
   "cell_type": "code",
   "execution_count": 11,
   "metadata": {
    "id": "5nLgQO09lT8V"
   },
   "outputs": [],
   "source": [
    "cnn.compile(optimizer = 'adam', loss = 'binary_crossentropy', metrics = ['accuracy'])"
   ]
  },
  {
   "cell_type": "markdown",
   "metadata": {
    "id": "ehS-v3MIpX2h"
   },
   "source": [
    "### Training the CNN on the Training set and evaluating it on the Test set"
   ]
  },
  {
   "cell_type": "code",
   "execution_count": 12,
   "metadata": {
    "id": "U5VCuX5Xl0TF"
   },
   "outputs": [
    {
     "name": "stdout",
     "output_type": "stream",
     "text": [
      "Epoch 1/50\n",
      "239/239 [==============================] - 349s 1s/step - loss: 0.5317 - accuracy: 0.7419 - val_loss: 0.2909 - val_accuracy: 0.8710\n",
      "Epoch 2/50\n",
      "239/239 [==============================] - 165s 690ms/step - loss: 0.3182 - accuracy: 0.8599 - val_loss: 0.2634 - val_accuracy: 0.8759\n",
      "Epoch 3/50\n",
      "239/239 [==============================] - 163s 682ms/step - loss: 0.2751 - accuracy: 0.8797 - val_loss: 0.1894 - val_accuracy: 0.9153\n",
      "Epoch 4/50\n",
      "239/239 [==============================] - 150s 626ms/step - loss: 0.2379 - accuracy: 0.9014 - val_loss: 0.2067 - val_accuracy: 0.9098\n",
      "Epoch 5/50\n",
      "239/239 [==============================] - 144s 602ms/step - loss: 0.1959 - accuracy: 0.9228 - val_loss: 0.1858 - val_accuracy: 0.9220\n",
      "Epoch 6/50\n",
      "239/239 [==============================] - 146s 610ms/step - loss: 0.1847 - accuracy: 0.9236 - val_loss: 0.1832 - val_accuracy: 0.9132\n",
      "Epoch 7/50\n",
      "239/239 [==============================] - 146s 611ms/step - loss: 0.1661 - accuracy: 0.9338 - val_loss: 0.1142 - val_accuracy: 0.9523\n",
      "Epoch 8/50\n",
      "239/239 [==============================] - 146s 610ms/step - loss: 0.1619 - accuracy: 0.9347 - val_loss: 0.1502 - val_accuracy: 0.9318\n",
      "Epoch 9/50\n",
      "239/239 [==============================] - 145s 608ms/step - loss: 0.1482 - accuracy: 0.9415 - val_loss: 0.1229 - val_accuracy: 0.9511\n",
      "Epoch 10/50\n",
      "239/239 [==============================] - 148s 617ms/step - loss: 0.1215 - accuracy: 0.9518 - val_loss: 0.0965 - val_accuracy: 0.9609\n",
      "Epoch 11/50\n",
      "239/239 [==============================] - 145s 606ms/step - loss: 0.1178 - accuracy: 0.9528 - val_loss: 0.0989 - val_accuracy: 0.9664\n",
      "Epoch 12/50\n",
      "239/239 [==============================] - 143s 599ms/step - loss: 0.1147 - accuracy: 0.9536 - val_loss: 0.1135 - val_accuracy: 0.9551\n",
      "Epoch 13/50\n",
      "239/239 [==============================] - 146s 611ms/step - loss: 0.1136 - accuracy: 0.9571 - val_loss: 0.0980 - val_accuracy: 0.9667\n",
      "Epoch 14/50\n",
      "239/239 [==============================] - 145s 607ms/step - loss: 0.1058 - accuracy: 0.9609 - val_loss: 0.0803 - val_accuracy: 0.9679\n",
      "Epoch 15/50\n",
      "239/239 [==============================] - 145s 606ms/step - loss: 0.0937 - accuracy: 0.9647 - val_loss: 0.1075 - val_accuracy: 0.9526\n",
      "Epoch 16/50\n",
      "239/239 [==============================] - 147s 617ms/step - loss: 0.0903 - accuracy: 0.9657 - val_loss: 0.0638 - val_accuracy: 0.9740\n",
      "Epoch 17/50\n",
      "239/239 [==============================] - 143s 600ms/step - loss: 0.0931 - accuracy: 0.9647 - val_loss: 0.0854 - val_accuracy: 0.9636\n",
      "Epoch 18/50\n",
      "239/239 [==============================] - 143s 598ms/step - loss: 0.0820 - accuracy: 0.9684 - val_loss: 0.0792 - val_accuracy: 0.9694\n",
      "Epoch 19/50\n",
      "239/239 [==============================] - 149s 623ms/step - loss: 0.0954 - accuracy: 0.9626 - val_loss: 0.0969 - val_accuracy: 0.9593\n",
      "Epoch 20/50\n",
      "239/239 [==============================] - 151s 633ms/step - loss: 0.0780 - accuracy: 0.9729 - val_loss: 0.0795 - val_accuracy: 0.9707\n",
      "Epoch 21/50\n",
      "239/239 [==============================] - 150s 626ms/step - loss: 0.0727 - accuracy: 0.9733 - val_loss: 0.0745 - val_accuracy: 0.9731\n",
      "Epoch 22/50\n",
      "239/239 [==============================] - 150s 626ms/step - loss: 0.0726 - accuracy: 0.9742 - val_loss: 0.0868 - val_accuracy: 0.9682\n",
      "Epoch 23/50\n",
      "239/239 [==============================] - 145s 605ms/step - loss: 0.0523 - accuracy: 0.9811 - val_loss: 0.0654 - val_accuracy: 0.9768\n",
      "Epoch 24/50\n",
      "239/239 [==============================] - 140s 586ms/step - loss: 0.0696 - accuracy: 0.9751 - val_loss: 0.0627 - val_accuracy: 0.9746\n",
      "Epoch 25/50\n",
      "239/239 [==============================] - 152s 635ms/step - loss: 0.0677 - accuracy: 0.9733 - val_loss: 0.0551 - val_accuracy: 0.9823\n",
      "Epoch 26/50\n",
      "239/239 [==============================] - 159s 665ms/step - loss: 0.0494 - accuracy: 0.9813 - val_loss: 0.0763 - val_accuracy: 0.9749\n",
      "Epoch 27/50\n",
      "239/239 [==============================] - 159s 666ms/step - loss: 0.0545 - accuracy: 0.9803 - val_loss: 0.0625 - val_accuracy: 0.9792\n",
      "Epoch 28/50\n",
      "239/239 [==============================] - 159s 665ms/step - loss: 0.0609 - accuracy: 0.9789 - val_loss: 0.1319 - val_accuracy: 0.9557\n",
      "Epoch 29/50\n",
      "239/239 [==============================] - 159s 665ms/step - loss: 0.0511 - accuracy: 0.9819 - val_loss: 0.0950 - val_accuracy: 0.9658\n",
      "Epoch 30/50\n",
      "239/239 [==============================] - 159s 666ms/step - loss: 0.0470 - accuracy: 0.9817 - val_loss: 0.0677 - val_accuracy: 0.9749\n",
      "Epoch 31/50\n",
      "239/239 [==============================] - 154s 644ms/step - loss: 0.0411 - accuracy: 0.9856 - val_loss: 0.0499 - val_accuracy: 0.9847\n",
      "Epoch 32/50\n",
      "239/239 [==============================] - 129s 540ms/step - loss: 0.0245 - accuracy: 0.9912 - val_loss: 0.0654 - val_accuracy: 0.9823\n",
      "Epoch 33/50\n",
      "239/239 [==============================] - 143s 598ms/step - loss: 0.0703 - accuracy: 0.9751 - val_loss: 0.0775 - val_accuracy: 0.9817\n",
      "Epoch 34/50\n",
      "239/239 [==============================] - 129s 538ms/step - loss: 0.0485 - accuracy: 0.9831 - val_loss: 0.0552 - val_accuracy: 0.9798\n",
      "Epoch 35/50\n",
      "239/239 [==============================] - 128s 536ms/step - loss: 0.0361 - accuracy: 0.9887 - val_loss: 0.0672 - val_accuracy: 0.9826\n",
      "Epoch 36/50\n",
      "239/239 [==============================] - 128s 536ms/step - loss: 0.0311 - accuracy: 0.9894 - val_loss: 0.0684 - val_accuracy: 0.9783\n",
      "Epoch 37/50\n",
      "239/239 [==============================] - 129s 538ms/step - loss: 0.0403 - accuracy: 0.9861 - val_loss: 0.0595 - val_accuracy: 0.9755\n",
      "Epoch 38/50\n",
      "239/239 [==============================] - 129s 538ms/step - loss: 0.0367 - accuracy: 0.9885 - val_loss: 0.0741 - val_accuracy: 0.9725\n",
      "Epoch 39/50\n",
      "239/239 [==============================] - 129s 539ms/step - loss: 0.0257 - accuracy: 0.9907 - val_loss: 0.0957 - val_accuracy: 0.9768\n",
      "Epoch 40/50\n",
      "239/239 [==============================] - 129s 540ms/step - loss: 0.0395 - accuracy: 0.9875 - val_loss: 0.0555 - val_accuracy: 0.9841\n",
      "Epoch 41/50\n",
      "239/239 [==============================] - 129s 538ms/step - loss: 0.0300 - accuracy: 0.9903 - val_loss: 0.0576 - val_accuracy: 0.9856\n",
      "Epoch 42/50\n",
      "239/239 [==============================] - 129s 539ms/step - loss: 0.0510 - accuracy: 0.9841 - val_loss: 0.0756 - val_accuracy: 0.9725\n",
      "Epoch 43/50\n",
      "239/239 [==============================] - 129s 538ms/step - loss: 0.0406 - accuracy: 0.9855 - val_loss: 0.0597 - val_accuracy: 0.9798\n",
      "Epoch 44/50\n",
      "239/239 [==============================] - 129s 539ms/step - loss: 0.0366 - accuracy: 0.9872 - val_loss: 0.0569 - val_accuracy: 0.9795\n",
      "Epoch 45/50\n",
      "239/239 [==============================] - 129s 538ms/step - loss: 0.0220 - accuracy: 0.9929 - val_loss: 0.0603 - val_accuracy: 0.9807\n",
      "Epoch 46/50\n",
      "239/239 [==============================] - 129s 540ms/step - loss: 0.0278 - accuracy: 0.9900 - val_loss: 0.0466 - val_accuracy: 0.9865\n",
      "Epoch 47/50\n",
      "239/239 [==============================] - 132s 553ms/step - loss: 0.0195 - accuracy: 0.9929 - val_loss: 0.0533 - val_accuracy: 0.9869\n",
      "Epoch 48/50\n",
      "239/239 [==============================] - 129s 539ms/step - loss: 0.0239 - accuracy: 0.9915 - val_loss: 0.0401 - val_accuracy: 0.9875\n",
      "Epoch 49/50\n",
      "239/239 [==============================] - 129s 537ms/step - loss: 0.0411 - accuracy: 0.9862 - val_loss: 0.0407 - val_accuracy: 0.9884\n",
      "Epoch 50/50\n",
      "239/239 [==============================] - 129s 540ms/step - loss: 0.0189 - accuracy: 0.9931 - val_loss: 0.0363 - val_accuracy: 0.9905\n"
     ]
    }
   ],
   "source": [
    "history = cnn.fit(x = training_set, validation_data = validation_set, epochs = epochs)"
   ]
  },
  {
   "cell_type": "markdown",
   "metadata": {
    "id": "U3PZasO0006Z"
   },
   "source": [
    "## Part 4 - Evaluating the CNN"
   ]
  },
  {
   "cell_type": "code",
   "execution_count": 13,
   "metadata": {
    "id": "VIlzwwCLmskS"
   },
   "outputs": [
    {
     "data": {
      "image/png": "[encoded data removed]",
      "text/plain": [
       "<Figure size 432x288 with 1 Axes>"
      ]
     },
     "metadata": {
      "needs_background": "light"
     },
     "output_type": "display_data"
    },
    {
     "data": {
      "image/png": "[encoded data removed]",
      "text/plain": [
       "<Figure size 432x288 with 1 Axes>"
      ]
     },
     "metadata": {
      "needs_background": "light"
     },
     "output_type": "display_data"
    }
   ],
   "source": [
    "import matplotlib.pyplot as plt\n",
    "\n",
    "accuracy = history.history['accuracy']\n",
    "val_accuracy = history.history['val_accuracy']\n",
    "loss = history.history['loss']\n",
    "val_loss = history.history['val_loss']\n",
    "epochs = range(len(accuracy))\n",
    "\n",
    "plt.plot  ( epochs, accuracy, label='Training Accuracy' )\n",
    "plt.plot  ( epochs, val_accuracy, label='Validation Accuracy' )\n",
    "plt.title ('Training and Validation Accuracy')\n",
    "plt.legend(bbox_to_anchor=(1.05, 1), loc='upper left', borderaxespad=0.)\n",
    "plt.figure()\n",
    "\n",
    "plt.plot  ( epochs, loss, label='Training Loss' )\n",
    "plt.plot  ( epochs, val_loss, label='Validation Loss' )\n",
    "plt.title ('Training and Validation Loss')\n",
    "plt.legend(bbox_to_anchor=(1.05, 1), loc='upper left', borderaxespad=0.);"
   ]
  },
  {
   "cell_type": "code",
   "execution_count": 14,
   "metadata": {},
   "outputs": [
    {
     "name": "stdout",
     "output_type": "stream",
     "text": [
      "85/85 [==============================] - 50s 590ms/step - loss: 0.0405 - accuracy: 0.9863\n",
      "Accuracy of this model : 0.986286\n",
      "Loss of this model : 0.040546\n"
     ]
    }
   ],
   "source": [
    "result = cnn.evaluate(test_set)\n",
    "print(f'Accuracy of this model : {result[1]:.6f}')\n",
    "print(f'Loss of this model : {result[0]:.6f}')"
   ]
  },
  {
   "cell_type": "markdown",
   "metadata": {},
   "source": [
    "## Part 5 - Making Predictions"
   ]
  },
  {
   "cell_type": "code",
   "execution_count": 15,
   "metadata": {},
   "outputs": [
    {
     "name": "stdout",
     "output_type": "stream",
     "text": [
      "{'fresh': 0, 'rotten': 1}\n",
      "{'fresh': 0, 'rotten': 1}\n",
      "{'fresh': 0, 'rotten': 1}\n"
     ]
    }
   ],
   "source": [
    "# Check classes indices\n",
    "print(training_set.class_indices)\n",
    "print(validation_set.class_indices)\n",
    "print(test_set.class_indices)"
   ]
  },
  {
   "cell_type": "code",
   "execution_count": 38,
   "metadata": {},
   "outputs": [
    {
     "name": "stdout",
     "output_type": "stream",
     "text": [
      "[[3.0625508e-06]]\n",
      "fresh\n"
     ]
    }
   ],
   "source": [
    "import numpy as np\n",
    "from keras.preprocessing import image\n",
    "\n",
    "imagefile = 'pera2.jpg'\n",
    "\n",
    "test_image = image.load_img('dataset/predictions_test/' + imagefile, target_size=(image_size, image_size))\n",
    "test_image = image.img_to_array(test_image)\n",
    "# Add a aditional dimention for batch_size\n",
    "# Commonly, batch is the first dimention (axis = 0)\n",
    "test_image = np.expand_dims(test_image, axis = 0)\n",
    "# Normalize the image\n",
    "result = cnn.predict(test_image/255.0)\n",
    "print(result)\n",
    "prob = np.where(result[0][0] > 0.5, 1, 0)\n",
    "\n",
    "if prob == 1:\n",
    "    print('rotten')\n",
    "else:\n",
    "    print('fresh')"
   ]
  },
  {
   "cell_type": "markdown",
   "metadata": {},
   "source": [
    "## Part 6 - Saving Model"
   ]
  },
  {
   "cell_type": "code",
   "execution_count": 17,
   "metadata": {},
   "outputs": [
    {
     "name": "stdout",
     "output_type": "stream",
     "text": [
      "INFO:tensorflow:Assets written to: tf_model_v1.1\\assets\n"
     ]
    }
   ],
   "source": [
    "# Save model on Tensorflow's SavedModel and Keras H5 format\n",
    "cnn.save('tf_model_v1.1')\n",
    "cnn.save('model_v1.1.h5')"
   ]
  }
 ],
 "metadata": {
  "colab": {
   "collapsed_sections": [],
   "name": "lesson_CNN.ipynb",
   "provenance": [],
   "toc_visible": true
  },
  "kernelspec": {
   "display_name": "Python 3",
   "language": "python",
   "name": "python3"
  },
  "language_info": {
   "codemirror_mode": {
    "name": "ipython",
    "version": 3
   },
   "file_extension": ".py",
   "mimetype": "text/x-python",
   "name": "python",
   "nbconvert_exporter": "python",
   "pygments_lexer": "ipython3",
   "version": "3.7.10"
  }
 },
 "nbformat": 4,
 "nbformat_minor": 4
}
